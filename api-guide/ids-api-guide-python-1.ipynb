{
 "cells": [
  {
   "cell_type": "markdown",
   "metadata": {},
   "source": [
    "# Accessing International Debt Statistics (IDS) through World Bank Data API\n",
    "## Part 1 - Query the API: indicators and locations\n",
    "### *Python 3*"
   ]
  },
  {
   "cell_type": "markdown",
   "metadata": {},
   "source": [
    "Date: 10/2/2019 <br>\n",
    "[Data source](https://datacatalog.worldbank.org/dataset/international-debt-statistics)<br>\n",
    "[Developer Information](https://datahelpdesk.worldbank.org/knowledgebase/topics/125589-developer-information)<br>\n",
    "[GitHub](https://github.com/worldbank/debt-data/tree/master/api-guide)"
   ]
  },
  {
   "cell_type": "markdown",
   "metadata": {},
   "source": [
    "This is first part in a series on accessing the International Debt Statistics (IDS) database through the World Bank Data API. In this part, we will query the World Bank Data API to retrieve the indicator names (including the new ones!) and location codes. \n",
    "\n",
    "The following code in this guide will show step-by-step how to:\n",
    "\n",
    "1. Setup up your environment with the needed Python packages\n",
    "2. Create Indicator API Queries\n",
    "3. Create Location API Queries"
   ]
  },
  {
   "cell_type": "markdown",
   "metadata": {},
   "source": [
    "## 1. Setup\n",
    "To start, make sure you have the following packages installed on your machine. If you aren't familiar with how to install a Python package, visit each of the linked packages for instructions.\n",
    "\n",
    "- [requests](https://realpython.com/python-requests/): Making HTTP requests in Python\n",
    "- [json](https://docs.python.org/3/library/json.html): Interpreting json\n",
    "\n",
    "Then, open up your preferred mode of writing Python. This could be in a [Jupyter Notebook](https://jupyter.org/) using [Jupyter Lab](https://blog.jupyter.org/jupyterlab-is-ready-for-users-5a6f039b8906), using a code editor (like Atom or Visual Studio) + command line, or just from the command line. Then import the required packages:"
   ]
  },
  {
   "cell_type": "code",
   "execution_count": 1,
   "metadata": {},
   "outputs": [],
   "source": [
    "# Import packages\n",
    "import requests\n",
    "import json"
   ]
  },
  {
   "cell_type": "markdown",
   "metadata": {},
   "source": [
    "## 2. Indicator API Queries\n"
   ]
  },
  {
   "cell_type": "markdown",
   "metadata": {},
   "source": [
    "To get a data series from the World Bank Data API, you first to use an \"indicator code.\" For example, the indicator code for long-term external debt stock is \"DT.DOD.DLXF.CD.\" These indicator codes can be found in the [World Bank Data Catalog](https://datacatalog.worldbank.org/), but you can also use the API to explore and select indicators. In this section, we will guide you through going from a topic idea to using the World Bank Data API to select an indictor code.\n",
    "\n",
    "More information on indicator API queries can also be found through the [Data Help Desk](https://datahelpdesk.worldbank.org/knowledgebase/articles/898599-indicator-api-queries)."
   ]
  },
  {
   "cell_type": "markdown",
   "metadata": {},
   "source": [
    "#### Getting the Source ID for International Debt Statistics\n",
    "\n",
    "To find the indicator code, we will first need to specify the API source. The World Bank Data API has numerous sources, including one specific to International Debt Statistics.\n",
    "\n",
    "The following GET request will get us every source from the World Bank Data API. However, the request is returned in a json format that is difficult to read as is, so we will include some code to parse through it. Then we can see each source name and ID available in the World Bank Data API to find IDS."
   ]
  },
  {
   "cell_type": "code",
   "execution_count": 2,
   "metadata": {},
   "outputs": [
    {
     "name": "stdout",
     "output_type": "stream",
     "text": [
      "1 Doing Business\n",
      "5 Subnational Malnutrition Database\n",
      "6 International Debt Statistics\n",
      "11 Africa Development Indicators\n",
      "12 Education Statistics\n",
      "13 Enterprise Surveys\n",
      "14 Gender Statistics\n",
      "15 Global Economic Monitor\n",
      "16 Health Nutrition and Population Statistics\n",
      "18 IDA Results Measurement System\n",
      "19 Millennium Development Goals\n",
      "20 Quarterly Public Sector Debt\n",
      "22 Quarterly External Debt Statistics SDDS\n",
      "23 Quarterly External Debt Statistics GDDS\n",
      "24 Poverty and Equity\n",
      "25 Jobs\n",
      "27 Global Economic Prospects\n",
      "28 Global Financial Inclusion\n",
      "29 The Atlas of Social Protection: Indicators of Resilience and Equity\n",
      "30 Exporter Dynamics Database – Indicators at Country-Year Level\n",
      "31 Country Policy and Institutional Assessment\n",
      "32 Global Financial Development\n",
      "33 G20 Financial Inclusion Indicators\n",
      "34 Global Partnership for Education\n",
      "35 Sustainable Energy for All\n",
      "36 Statistical Capacity Indicators\n",
      "37 LAC Equity Lab\n",
      "38 Subnational Poverty\n",
      "39 Health Nutrition and Population Statistics by Wealth Quintile\n",
      "40 Population estimates and projections\n",
      "41 Country Partnership Strategy for India (FY2013 - 17)\n",
      "44 Readiness for Investment in Sustainable Energy\n",
      "45 Indonesia Database for Policy and Economic Research\n",
      "46 Sustainable Development Goals \n",
      "54 Joint External Debt Hub\n",
      "60 Economic Fitness\n",
      "61 PPPs Regulatory Quality\n",
      "62 International Comparison Program (ICP) 2011\n",
      "63 Human Capital Index\n",
      "65 Health Equity and Financial Protection Indicators\n",
      "66 Logistics Performance Index\n",
      "67 PEFA 2011\n",
      "68 PEFA 2016\n",
      "69 Global Financial Inclusion and Consumer Protection Survey\n",
      "70 Economic Fitness 2\n",
      "71 International Comparison Program (ICP) 2005\n",
      "72 PEFA_Test\n",
      "73 Global Financial Inclusion and Consumer Protection Survey (Internal)\n",
      "74 Macro Poverty Outlook External\n",
      "75 Environment, Social and Governance (ESG) Data\n"
     ]
    }
   ],
   "source": [
    "# Get all sources from the World Bank API\n",
    "sources = requests.get(\"http://api.worldbank.org/v2/sources?format=json\")\n",
    "sourcesJSON = sources.json()\n",
    "#print(sourcesJSON) # if you want to view the JSON response as is, remove the \"#\" at the beginning of the print command\n",
    "\n",
    "# Parse through the response to see the source names and ID numbers.\n",
    "for i in sourcesJSON[1]:\n",
    "    print(i[\"id\"],i[\"name\"])"
   ]
  },
  {
   "cell_type": "markdown",
   "metadata": {},
   "source": [
    "From the above result, you can see that \"International Debt Statistics\" is has a source ID of 6. We will add that source ID to the end of our API queries."
   ]
  },
  {
   "cell_type": "markdown",
   "metadata": {},
   "source": [
    "#### Getting the Indicator code\n",
    "\n",
    "Now that we have source ID for International Debt Statistics we can make another request to the World Bank API to receive all of the indicator names and codes associated with that source. "
   ]
  },
  {
   "cell_type": "code",
   "execution_count": 3,
   "metadata": {},
   "outputs": [],
   "source": [
    "# Requesting the indicators for the topic External Debt\n",
    "indicators = requests.get(\"http://api.worldbank.org/v2/indicator?format=json&source=6\")\n",
    "indicatorsJSON = indicators.json()"
   ]
  },
  {
   "cell_type": "markdown",
   "metadata": {},
   "source": [
    "Now that we have the indicators, we can view the names and codes. The default number of results on each page is 50, but what if we want to see all the indicators on one page? Let's first print the \"total\" number of indicators. Then using that number we can adjust our API query."
   ]
  },
  {
   "cell_type": "code",
   "execution_count": 4,
   "metadata": {},
   "outputs": [
    {
     "name": "stdout",
     "output_type": "stream",
     "text": [
      "There are 497 IDS indicators\n"
     ]
    }
   ],
   "source": [
    "# Print the total number of indicators\n",
    "print(\"There are \" + str(indicatorsJSON[0][\"total\"]) + \" IDS indicators\")"
   ]
  },
  {
   "cell_type": "markdown",
   "metadata": {},
   "source": [
    "The above code shows the number of indicators in the External Debt topic. When submitting our new query to the API, we will take this into account by setting the \"per_page\" parameter to 500. This will allow us to view all the results with one query, instead of having to request multiple pages. Then we can parse through the result to explore the different indicator names and corresponding IDs. "
   ]
  },
  {
   "cell_type": "code",
   "execution_count": 5,
   "metadata": {},
   "outputs": [],
   "source": [
    "# Get all External Debt indicators, with a per_page parameter of 500.\n",
    "indicators = requests.get(\"http://api.worldbank.org/v2/indicator?format=json&source=6&per_page=500\")\n",
    "indicatorsJSON = indicators.json()\n",
    "#print(indicatorsJSON) # to view ALL of the indicators as is, remove the \"#\" at the beginning of the print command\n",
    "\n",
    "# Parse through the response to see the Indicator IDs and Names\n",
    "for i in indicatorsJSON[1]:\n",
    "    IDSindicators = (i[\"id\"],i[\"name\"])\n",
    "    #print(IDSindicators) # to view the indicator ids and names, remove the \"#\" at the beginning of the print command"
   ]
  },
  {
   "cell_type": "markdown",
   "metadata": {},
   "source": [
    "The result gives us all of the External Debt indicators and their codes. You can also view the IDS indicators and codes in their hierarchical order on our [data tables](http://datatopics.worldbank.org/debt/ids/). The Analytical view shows the select indicators from the IDS publication and the Standard view shows all available indicators.\n",
    "The indicator and code we want is \"DT.DOD.DLXF.CD External debt stocks, long-term (DOD, current US$).\" Before using this data, we need to understand its full definition. You can use an API query to get that information as well."
   ]
  },
  {
   "cell_type": "code",
   "execution_count": 6,
   "metadata": {},
   "outputs": [
    {
     "name": "stdout",
     "output_type": "stream",
     "text": [
      "Long-term debt is debt that has an original or extended maturity of more than one year. It has three components: public, publicly guaranteed, and private nonguaranteed debt. Data are in current U.S. dollars.\n"
     ]
    }
   ],
   "source": [
    "# Use the indicator code to define the \"indicator\" variable\n",
    "indicator = \"DT.DOD.DLXF.CD\"\n",
    "\n",
    "# Parse through the response to get the \"sourceNote\" or definition for the desired indicator\n",
    "for dict_entity in indicatorsJSON[1]:\n",
    "    if dict_entity[\"id\"] == indicator:\n",
    "        print(dict_entity[\"sourceNote\"])\n",
    "    else:\n",
    "        pass"
   ]
  },
  {
   "cell_type": "markdown",
   "metadata": {},
   "source": [
    "By using the API queries above, we were able to find the IDS API source ID, sort through the World Bank Data API topics, find \"External Debt,\" explore the corresponding indicators, and then select one indicator of interest and find its ID and definition."
   ]
  },
  {
   "cell_type": "markdown",
   "metadata": {},
   "source": [
    "## 3. Location API Queries\n",
    "\n",
    "Now that we have the indicator code, we need to select a location. To select a location by country, region, or income level category you will need to know its 2 or 3 letter code. This section will show you how to use similar API queries to pull the location names and codes. \n",
    "\n",
    "For more information on location API queries visit the [Data Help Desk](https://datahelpdesk.worldbank.org/knowledgebase/articles/898590-country-api-queries).\n",
    "\n",
    "When pulling the list of locations, I will set the per_page result to 300."
   ]
  },
  {
   "cell_type": "code",
   "execution_count": 7,
   "metadata": {},
   "outputs": [],
   "source": [
    "# Requesting the locations\n",
    "locations = requests.get(\"http://api.worldbank.org/v2/country?format=json&source=6&per_page=300\")\n",
    "locationsJSON = locations.json()\n",
    "#print(locationsJSON) # if you want to view ALL of the indicators as is, remove the \"#\" at the beginning of the print command\n",
    "\n",
    "# Parse through the response to see the location IDs and names\n",
    "for i in locationsJSON[1]:\n",
    "    locationCodes = (i[\"id\"],i[\"name\"])\n",
    "    #print(locationCodes) # to view the location ids and names, remove the \"#\" at the beginning of the print command"
   ]
  },
  {
   "cell_type": "markdown",
   "metadata": {},
   "source": [
    "From this list of locations, we can now pick one or more locations and the corresponding location code. Such as ARG - Argentina or EAP - East Asia & Pacific. The results from this query are also saved as [location-codes csv](https://github.com/worldbank/debt-data/blob/master/api-guide/location-codes.csv)*\n",
    "\n",
    "###### *The location-codes csv was created using the API query: http://api.worldbank.org/v2/sources/2/country/data"
   ]
  }
 ],
 "metadata": {
  "kernelspec": {
   "display_name": "Python 3",
   "language": "python",
   "name": "python3"
  },
  "language_info": {
   "codemirror_mode": {
    "name": "ipython",
    "version": 3
   },
   "file_extension": ".py",
   "mimetype": "text/x-python",
   "name": "python",
   "nbconvert_exporter": "python",
   "pygments_lexer": "ipython3",
   "version": "3.7.0"
  }
 },
 "nbformat": 4,
 "nbformat_minor": 2
}
