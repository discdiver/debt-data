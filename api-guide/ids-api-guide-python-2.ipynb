{
 "cells": [
  {
   "cell_type": "markdown",
   "metadata": {},
   "source": [
    "# Part 2: Accessing International Debt Statistics (IDS) through World Bank API\n",
    "### *guide in python 3*"
   ]
  },
  {
   "cell_type": "markdown",
   "metadata": {},
   "source": [
    "Date: 05/22/2019 <br>\n",
    "[Data source](https://datacatalog.worldbank.org/dataset/international-debt-statistics)<br>\n",
    "[Developer Information](https://datahelpdesk.worldbank.org/knowledgebase/topics/125589-developer-information)"
   ]
  },
  {
   "cell_type": "markdown",
   "metadata": {},
   "source": [
    "This is second part of a two-part series on accessing the International Debt Statistics (IDS) database through the World Bank Data API. In the first part (LINK NEEDED), we queried the World Bank Data API to retrieve indicator names and location codes. In this guide, we will use that information to explore the **regional trends of long-term external debt stocks** from the IDS database. The following code will show step-by-step how to:\n",
    "\n",
    "1. Setup up your environment with the needed packages\n",
    "2. Select your data specifications (as established in Part 1 (LINK NEEDED))\n",
    "3. Use the World Bank API call to return the specified data\n",
    "4. Explore the data through basic descriptive analysis // create a pretty chart."
   ]
  },
  {
   "cell_type": "markdown",
   "metadata": {},
   "source": [
    "## 1. Setup\n",
    "To start, make sure you have the following packages installed on your machine. If you aren't familiar with how to install a Python package, visit each of the linked sites below for instructions.\n",
    "- [pandas](https://pandas.pydata.org/): data analysis\n",
    "- [numpy](https://www.numpy.org/): data analysis\n",
    "- [datetime](https://wbdata.readthedocs.io/en/latest/#): parsing dates\n",
    "- [wbdata](https://wbdata.readthedocs.io/en/latest/#): World Bank API wrapper\n",
    "- [altair](https://altair-viz.github.io/getting_started/installation.html): data visualization\n",
    "\n",
    "Then, open up your preferred mode of writing Python. This could be in a [Jupyter Notebook](https://jupyter.org/) using [Jupyter Lab](https://blog.jupyter.org/jupyterlab-is-ready-for-users-5a6f039b8906), using an IDE + command line, or just from the command line. Although the Altair chart works best in JupyterLab. Now follow the rest of the steps below to retreive and analyze the World Bank data."
   ]
  },
  {
   "cell_type": "code",
   "execution_count": 1,
   "metadata": {},
   "outputs": [
    {
     "data": {
      "text/plain": [
       "RendererRegistry.enable('default')"
      ]
     },
     "execution_count": 1,
     "metadata": {},
     "output_type": "execute_result"
    }
   ],
   "source": [
    "# Importing packages\n",
    "import pandas as pd\n",
    "import numpy as np\n",
    "import datetime\n",
    "import wbdata\n",
    "import altair as alt\n",
    "alt.renderers.enable('default') # for JupyterLab\n",
    "# use alt.renderers.enable('notebook') if you're not using JupyterLab"
   ]
  },
  {
   "cell_type": "markdown",
   "metadata": {},
   "source": [
    "## 2. Data Specifications\n",
    "Now you can specify the the data that you want to explore using the following parameters:\n",
    "- **Indicator(s)**: the indicator code for the data series\n",
    "- **Location(s)**: countries, regions, income \n",
    "- **Time**: years"
   ]
  },
  {
   "cell_type": "markdown",
   "metadata": {},
   "source": [
    "#### Indicator(s)\n",
    "The World Bank's Data Catalog contains indicator codes for each data series. In this guide, we will be looking at \"long-term external debt stock\" from the IDS data. To find the indicator for the data in which you're interested, you can either explore the [World Bank data catalog](https://datacatalog.worldbank.org/) or use an API query (LINK NEEDED) as outlined in Part 1 of this series. The IDS indicators are also conveniently stored as a spreadsheet (LINK NEEDED) in this repo. "
   ]
  },
  {
   "cell_type": "code",
   "execution_count": 2,
   "metadata": {},
   "outputs": [],
   "source": [
    "# selecting the indictor\n",
    "indicatorSelection = {\"DT.DOD.DLXF.CD\":\"ExternalDebtStocks\"}"
   ]
  },
  {
   "cell_type": "markdown",
   "metadata": {},
   "source": [
    "The description that follows the code (\"External debt stocks\") is whatever you want to call it. To call more than one indicator, add more indicator names and descriptions to the dictionary."
   ]
  },
  {
   "cell_type": "markdown",
   "metadata": {},
   "source": [
    "#### Location(s)\n",
    "To select a location by country, region, or income level you will need to know its 2 or 3 letter code. To figure out what this code is, you can either find it on the [WITS System site](https://wits.worldbank.org/wits/wits/witshelp/content/codes/country_codes.htm), use an API query as outlined in Part 1 of this series (LINK NEEDED), or use the convenient [location-codes spreadsheet](https://github.com/worldbank/debt-data/blob/master/location-codes.csv)* in this repo. \n",
    "\n",
    "We will select regional aggregates (excluding high-income countries):\n",
    "- ECA: Europe & Central Asia\n",
    "- SSA: Sub-Saharan Africa\n",
    "- SAS: South Asia\n",
    "- LAC: Latin America Caribbean\n",
    "- MNA: Middle East & North Africa\n",
    "- EAP: East Asia & Pacific\n",
    "\n",
    "\n",
    "###### *The location-codes spreadsheet was created using the API query: http://api.worldbank.org/v2/sources/2/country/data"
   ]
  },
  {
   "cell_type": "code",
   "execution_count": 3,
   "metadata": {},
   "outputs": [],
   "source": [
    "# Select the countries or regions\n",
    "locationSelection = [\"ECA\",\"SSA\",\"SAS\",\"LAC\",\"MNA\",\"EAP\"]"
   ]
  },
  {
   "cell_type": "markdown",
   "metadata": {},
   "source": [
    "#### Time\n",
    "Here you will select the time frame for the data you are retrieving. If you want to retrieve data for the entire time series do not include a data_date in the API call in Step 3. The format for the date is year, month, day."
   ]
  },
  {
   "cell_type": "code",
   "execution_count": 4,
   "metadata": {},
   "outputs": [],
   "source": [
    "# Selecting the time frame\n",
    "timeSelection = (datetime.datetime(2008, 1, 1), datetime.datetime(2017, 1, 1))"
   ]
  },
  {
   "cell_type": "markdown",
   "metadata": {},
   "source": [
    "## 3. API Call"
   ]
  },
  {
   "cell_type": "markdown",
   "metadata": {},
   "source": [
    "In this step, we will retrieve the data using the World Bank API call. The package \"wbdata\" can request information from the World Bank database as a dictionary containing full metadata or as a pandas DataFrame. In this example, we will request the data, with the parameters outlined above, as a DataFrame."
   ]
  },
  {
   "cell_type": "code",
   "execution_count": 5,
   "metadata": {},
   "outputs": [],
   "source": [
    "EXD = wbdata.get_dataframe(indicatorSelection, \n",
    "                            country = locationSelection, \n",
    "                            data_date = timeSelection, \n",
    "                            convert_date = False)"
   ]
  },
  {
   "cell_type": "markdown",
   "metadata": {},
   "source": [
    "If you want a quick preview of your freshly retrieved DataFrame, you can print just the first 5 lines"
   ]
  },
  {
   "cell_type": "code",
   "execution_count": 6,
   "metadata": {},
   "outputs": [
    {
     "name": "stdout",
     "output_type": "stream",
     "text": [
      "                                                  ExternalDebtStocks\n",
      "country                                     date                    \n",
      "East Asia & Pacific (excluding high income) 2017        1.263986e+12\n",
      "                                            2016        1.158415e+12\n",
      "                                            2015        1.035285e+12\n",
      "                                            2014        1.029315e+12\n",
      "                                            2013        8.397770e+11\n"
     ]
    }
   ],
   "source": [
    "print(EXD.head())"
   ]
  },
  {
   "cell_type": "markdown",
   "metadata": {},
   "source": [
    "## 4. Explore the data!\n",
    "Congratulations! At this point you should have the **long-term external debt stock** for **regions** (excluding high-income economies) from **2008 - 2017** all in a DataFrame called \"EXD.\"\n",
    "\n",
    "Now we can do:\n",
    "- **Data Cleaning**: clean up the format to use in a table or to populate a visualization\n",
    "- **Visualization**: create a simple chart"
   ]
  },
  {
   "cell_type": "markdown",
   "metadata": {},
   "source": [
    "#### Data Cleaning\n",
    "As you saw in the preview of the data in section 3, the DataFrame's format needs to be cleaned up. We want to reshape the data. This will get it ready to present in a table or in a visualization."
   ]
  },
  {
   "cell_type": "code",
   "execution_count": 7,
   "metadata": {},
   "outputs": [],
   "source": [
    "# reshape the data\n",
    "EXDreshaped = pd.DataFrame(EXD.to_records())"
   ]
  },
  {
   "cell_type": "markdown",
   "metadata": {},
   "source": [
    "The data for the long-term external debt stock is currently in units. To improve a table's or chart's readability, I will convert the units to billions. To do this I am first creating a function called \"toBil\" that I can then run on my DataFrame."
   ]
  },
  {
   "cell_type": "code",
   "execution_count": 8,
   "metadata": {},
   "outputs": [],
   "source": [
    "# Creating a function that will change units to billions\n",
    "def toBil(x):\n",
    "    y = x/1000000000\n",
    "    return(y)\n",
    "\n",
    "# Running the function on the desired data column\n",
    "EXDreshaped.ExternalDebtStocks = toBil(EXDreshaped.ExternalDebtStocks)"
   ]
  },
  {
   "cell_type": "markdown",
   "metadata": {},
   "source": [
    "These next two sections of code will clean up the naming of headers and data. First, it will rename the column headers. Second, it will remove the redundant \"(excluding high income)\" from the region names. We can instead include that information in the title of the legend."
   ]
  },
  {
   "cell_type": "code",
   "execution_count": 9,
   "metadata": {},
   "outputs": [],
   "source": [
    "# Renaming column headers\n",
    "EXDclean = EXDreshaped.rename(index=str, columns={\n",
    "    \"date\":\"Year\",\n",
    "    \"country\":\"Region\",\n",
    "})"
   ]
  },
  {
   "cell_type": "code",
   "execution_count": 10,
   "metadata": {},
   "outputs": [],
   "source": [
    "# Remove the \"(excluding high income)\" from each of the region names\n",
    "EXDclean[\"Region\"] = EXDclean[\"Region\"].str.replace(\"excluding high income\",\"\").str.replace(\")\",\"\").str.replace(\"(\",\"\")"
   ]
  },
  {
   "cell_type": "markdown",
   "metadata": {},
   "source": [
    "Now our data should be ready to present in a table or visualize. Let's take a look at the first five lines again so we can compare the cleaned up data to the output in section 3."
   ]
  },
  {
   "cell_type": "code",
   "execution_count": 11,
   "metadata": {},
   "outputs": [
    {
     "name": "stdout",
     "output_type": "stream",
     "text": [
      "                 Region  Year  ExternalDebtStocks\n",
      "0  East Asia & Pacific   2017         1263.985823\n",
      "1  East Asia & Pacific   2016         1158.414865\n",
      "2  East Asia & Pacific   2015         1035.285385\n",
      "3  East Asia & Pacific   2014         1029.314935\n",
      "4  East Asia & Pacific   2013          839.776998\n"
     ]
    }
   ],
   "source": [
    "print(EXDclean.head())"
   ]
  },
  {
   "cell_type": "markdown",
   "metadata": {},
   "source": [
    "#### Data Visualization\n",
    "\n",
    "I will use the package \"Altair\" to create a line graph, similar to one from the blog post on the [launch of IDS 2019](http://blogs.worldbank.org/opendata/international-debt-statistics-2019-external-debt-stocks-end-2017-stood-over-7-trillion). To use Altair, I recommend visiting following their [installation guide](https://altair-viz.github.io/getting_started/installation.html) and using JuptyerLab. "
   ]
  },
  {
   "cell_type": "code",
   "execution_count": 12,
   "metadata": {},
   "outputs": [
    {
     "data": {
      "application/vnd.vegalite.v2+json": {
       "$schema": "https://vega.github.io/schema/vega-lite/v2.6.0.json",
       "config": {
        "view": {
         "height": 300,
         "width": 400
        }
       },
       "data": {
        "name": "data-d9e41ca421d1f23de77bd3d7abf43f8b"
       },
       "datasets": {
        "data-d9e41ca421d1f23de77bd3d7abf43f8b": [
         {
          "ExternalDebtStocks": 1263.9858233695,
          "Region": "East Asia & Pacific ",
          "Year": "2017"
         },
         {
          "ExternalDebtStocks": 1158.4148650848,
          "Region": "East Asia & Pacific ",
          "Year": "2016"
         },
         {
          "ExternalDebtStocks": 1035.2853846642,
          "Region": "East Asia & Pacific ",
          "Year": "2015"
         },
         {
          "ExternalDebtStocks": 1029.3149347559,
          "Region": "East Asia & Pacific ",
          "Year": "2014"
         },
         {
          "ExternalDebtStocks": 839.7769984372,
          "Region": "East Asia & Pacific ",
          "Year": "2013"
         },
         {
          "ExternalDebtStocks": 768.8467409241999,
          "Region": "East Asia & Pacific ",
          "Year": "2012"
         },
         {
          "ExternalDebtStocks": 639.7218125321,
          "Region": "East Asia & Pacific ",
          "Year": "2011"
         },
         {
          "ExternalDebtStocks": 548.9409401396,
          "Region": "East Asia & Pacific ",
          "Year": "2010"
         },
         {
          "ExternalDebtStocks": 494.19262540740004,
          "Region": "East Asia & Pacific ",
          "Year": "2009"
         },
         {
          "ExternalDebtStocks": 468.59787093020003,
          "Region": "East Asia & Pacific ",
          "Year": "2008"
         },
         {
          "ExternalDebtStocks": 1292.2161802307,
          "Region": "Europe & Central Asia ",
          "Year": "2017"
         },
         {
          "ExternalDebtStocks": 1279.237904112,
          "Region": "Europe & Central Asia ",
          "Year": "2016"
         },
         {
          "ExternalDebtStocks": 1200.1317494306002,
          "Region": "Europe & Central Asia ",
          "Year": "2015"
         },
         {
          "ExternalDebtStocks": 1264.9172481263001,
          "Region": "Europe & Central Asia ",
          "Year": "2014"
         },
         {
          "ExternalDebtStocks": 1349.7246890065,
          "Region": "Europe & Central Asia ",
          "Year": "2013"
         },
         {
          "ExternalDebtStocks": 1193.7676938829,
          "Region": "Europe & Central Asia ",
          "Year": "2012"
         },
         {
          "ExternalDebtStocks": 1112.9182241296999,
          "Region": "Europe & Central Asia ",
          "Year": "2011"
         },
         {
          "ExternalDebtStocks": 968.6187025536,
          "Region": "Europe & Central Asia ",
          "Year": "2010"
         },
         {
          "ExternalDebtStocks": 950.1562868119,
          "Region": "Europe & Central Asia ",
          "Year": "2009"
         },
         {
          "ExternalDebtStocks": 919.0380335315,
          "Region": "Europe & Central Asia ",
          "Year": "2008"
         },
         {
          "ExternalDebtStocks": 1311.3237054746,
          "Region": "Latin America & Caribbean ",
          "Year": "2017"
         },
         {
          "ExternalDebtStocks": 1267.4974201233001,
          "Region": "Latin America & Caribbean ",
          "Year": "2016"
         },
         {
          "ExternalDebtStocks": 1246.9151722338001,
          "Region": "Latin America & Caribbean ",
          "Year": "2015"
         },
         {
          "ExternalDebtStocks": 1239.7472940273,
          "Region": "Latin America & Caribbean ",
          "Year": "2014"
         },
         {
          "ExternalDebtStocks": 1119.0712998123001,
          "Region": "Latin America & Caribbean ",
          "Year": "2013"
         },
         {
          "ExternalDebtStocks": 1007.1640326531999,
          "Region": "Latin America & Caribbean ",
          "Year": "2012"
         },
         {
          "ExternalDebtStocks": 886.7215234769001,
          "Region": "Latin America & Caribbean ",
          "Year": "2011"
         },
         {
          "ExternalDebtStocks": 739.1898399519,
          "Region": "Latin America & Caribbean ",
          "Year": "2010"
         },
         {
          "ExternalDebtStocks": 625.9514662306999,
          "Region": "Latin America & Caribbean ",
          "Year": "2009"
         },
         {
          "ExternalDebtStocks": 600.4072446931,
          "Region": "Latin America & Caribbean ",
          "Year": "2008"
         },
         {
          "ExternalDebtStocks": 224.8460616757,
          "Region": "Middle East & North Africa ",
          "Year": "2017"
         },
         {
          "ExternalDebtStocks": 198.766827964,
          "Region": "Middle East & North Africa ",
          "Year": "2016"
         },
         {
          "ExternalDebtStocks": 184.0085251571,
          "Region": "Middle East & North Africa ",
          "Year": "2015"
         },
         {
          "ExternalDebtStocks": 173.7858978517,
          "Region": "Middle East & North Africa ",
          "Year": "2014"
         },
         {
          "ExternalDebtStocks": 177.0155255984,
          "Region": "Middle East & North Africa ",
          "Year": "2013"
         },
         {
          "ExternalDebtStocks": 157.0368571869,
          "Region": "Middle East & North Africa ",
          "Year": "2012"
         },
         {
          "ExternalDebtStocks": 145.3001246011,
          "Region": "Middle East & North Africa ",
          "Year": "2011"
         },
         {
          "ExternalDebtStocks": 144.9155243031,
          "Region": "Middle East & North Africa ",
          "Year": "2010"
         },
         {
          "ExternalDebtStocks": 141.4818239119,
          "Region": "Middle East & North Africa ",
          "Year": "2009"
         },
         {
          "ExternalDebtStocks": 137.9971356971,
          "Region": "Middle East & North Africa ",
          "Year": "2008"
         },
         {
          "ExternalDebtStocks": 564.586238462,
          "Region": "South Asia",
          "Year": "2017"
         },
         {
          "ExternalDebtStocks": 500.6795776165,
          "Region": "South Asia",
          "Year": "2016"
         },
         {
          "ExternalDebtStocks": 516.3515528016,
          "Region": "South Asia",
          "Year": "2015"
         },
         {
          "ExternalDebtStocks": 486.00393662159996,
          "Region": "South Asia",
          "Year": "2014"
         },
         {
          "ExternalDebtStocks": 441.18072143840004,
          "Region": "South Asia",
          "Year": "2013"
         },
         {
          "ExternalDebtStocks": 402.804399654,
          "Region": "South Asia",
          "Year": "2012"
         },
         {
          "ExternalDebtStocks": 352.2569534673,
          "Region": "South Asia",
          "Year": "2011"
         },
         {
          "ExternalDebtStocks": 322.75307884029996,
          "Region": "South Asia",
          "Year": "2010"
         },
         {
          "ExternalDebtStocks": 293.1282568239,
          "Region": "South Asia",
          "Year": "2009"
         },
         {
          "ExternalDebtStocks": 266.7542367229,
          "Region": "South Asia",
          "Year": "2008"
         },
         {
          "ExternalDebtStocks": 442.55713701679997,
          "Region": "Sub-Saharan Africa ",
          "Year": "2017"
         },
         {
          "ExternalDebtStocks": 379.8734322356,
          "Region": "Sub-Saharan Africa ",
          "Year": "2016"
         },
         {
          "ExternalDebtStocks": 348.5607687623,
          "Region": "Sub-Saharan Africa ",
          "Year": "2015"
         },
         {
          "ExternalDebtStocks": 333.1105002306,
          "Region": "Sub-Saharan Africa ",
          "Year": "2014"
         },
         {
          "ExternalDebtStocks": 307.3970944695,
          "Region": "Sub-Saharan Africa ",
          "Year": "2013"
         },
         {
          "ExternalDebtStocks": 280.8942002942,
          "Region": "Sub-Saharan Africa ",
          "Year": "2012"
         },
         {
          "ExternalDebtStocks": 251.3797827089,
          "Region": "Sub-Saharan Africa ",
          "Year": "2011"
         },
         {
          "ExternalDebtStocks": 225.2575583383,
          "Region": "Sub-Saharan Africa ",
          "Year": "2010"
         },
         {
          "ExternalDebtStocks": 199.740431984,
          "Region": "Sub-Saharan Africa ",
          "Year": "2009"
         },
         {
          "ExternalDebtStocks": 178.9099643615,
          "Region": "Sub-Saharan Africa ",
          "Year": "2008"
         }
        ]
       },
       "encoding": {
        "color": {
         "field": "Region",
         "legend": {
          "title": "Region (Excluding High-Income)"
         },
         "type": "nominal"
        },
        "tooltip": [
         {
          "field": "ExternalDebtStocks",
          "format": ".0f",
          "title": "External Debt Stock ($ bil)",
          "type": "quantitative"
         },
         {
          "field": "Region",
          "type": "nominal"
         },
         {
          "field": "Year",
          "type": "nominal"
         }
        ],
        "x": {
         "field": "Year",
         "type": "nominal"
        },
        "y": {
         "field": "ExternalDebtStocks",
         "type": "quantitative"
        }
       },
       "height": 300,
       "mark": {
        "point": "transparent",
        "type": "line"
       },
       "title": "External Debt Stock ($ billion)",
       "width": 400
      },
      "image/png": "[encoded data removed]",
      "text/plain": [
       "<VegaLite 2 object>\n",
       "\n",
       "If you see this message, it means the renderer has not been properly enabled\n",
       "for the frontend that you are using. For more information, see\n",
       "https://altair-viz.github.io/user_guide/troubleshooting.html\n"
      ]
     },
     "execution_count": 12,
     "metadata": {},
     "output_type": "execute_result"
    }
   ],
   "source": [
    "# defining the data source\n",
    "source = EXDclean\n",
    "\n",
    "# create the chart\n",
    "alt.Chart(source,\n",
    "    # size of the chart\n",
    "    width=400,\n",
    "    height=300\n",
    ").mark_line(\n",
    "    point=\"transparent\" # this is set to transparent to enhance the tooltip selection\n",
    ").encode(\n",
    "    # Select X and Y using the column names\n",
    "    x=\"Year\",\n",
    "    y=\"ExternalDebtStocks\",\n",
    "    # Categorizing data by \"region\" and adding a legend\n",
    "    color=alt.Color(\"Region\", legend=alt.Legend(title=\"Region (Excluding High-Income)\")),\n",
    "    # Adding and formatting the tooltip\n",
    "    tooltip=[alt.Tooltip(\"ExternalDebtStocks\", format=\".0f\", title=\"External Debt Stock ($ bil)\"),\n",
    "            alt.Tooltip(\"Region\"),\n",
    "            alt.Tooltip(\"Year\")],\n",
    ").properties(\n",
    "    #title of chart\n",
    "    title=\"External Debt Stock ($ billion)\")"
   ]
  }
 ],
 "metadata": {
  "kernelspec": {
   "display_name": "Python 3",
   "language": "python",
   "name": "python3"
  },
  "language_info": {
   "codemirror_mode": {
    "name": "ipython",
    "version": 3
   },
   "file_extension": ".py",
   "mimetype": "text/x-python",
   "name": "python",
   "nbconvert_exporter": "python",
   "pygments_lexer": "ipython3",
   "version": "3.6.0"
  }
 },
 "nbformat": 4,
 "nbformat_minor": 2
}
