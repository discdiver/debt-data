{
 "cells": [
  {
   "cell_type": "markdown",
   "metadata": {},
   "source": [
    "# Accessing International Debt Statistics (IDS) through World Bank Data API\n",
    "## Part 2 - Get and explore data\n",
    "### *Python 3*"
   ]
  },
  {
   "cell_type": "markdown",
   "metadata": {},
   "source": [
    "Date: 05/22/2019 <br>\n",
    "[Data source](https://datacatalog.worldbank.org/dataset/international-debt-statistics)<br>\n",
    "[Developer Information](https://datahelpdesk.worldbank.org/knowledgebase/topics/125589-developer-information)"
   ]
  },
  {
   "cell_type": "markdown",
   "metadata": {},
   "source": [
    "This is second part of a two-part series on accessing the International Debt Statistics (IDS) database through the World Bank Data API. In [Part 1](https://worldbank.github.io/debt-data/api-guide/ids-api-guide-python-1.html), we queried the World Bank Data API to retrieve indicator names and location codes. In this guide, we will use that information to explore the **regional trends of long-term external debt stocks** from the IDS database. \n",
    "\n",
    "The following code in this guide will show step-by-step how to:\n",
    "\n",
    "1. Setup up your environment with the needed packages\n",
    "2. Input your data specifications (as selected in [Part 1](https://worldbank.github.io/debt-data/api-guide/ids-api-guide-python-1.html))\n",
    "3. Use the World Bank Data API call to return the specified data\n",
    "4. Explore the data through basic descriptive analysis and create a pretty chart."
   ]
  },
  {
   "cell_type": "markdown",
   "metadata": {},
   "source": [
    "## 1. Setup\n",
    "To start, make sure you have the following packages installed on your machine. If you aren't familiar with how to install a Python package, visit each of the linked packages below for instructions.\n",
    "- [pandas](https://pandas.pydata.org/): Data analysis\n",
    "- [numpy](https://www.numpy.org/): Data analysis\n",
    "- [datetime](https://wbdata.readthedocs.io/en/latest/#): Parsing dates\n",
    "- [wbdata](https://wbdata.readthedocs.io/en/latest/#): World Bank Data API wrapper\n",
    "- [plotly](https://plot.ly/python/): Data visualization\n",
    "\n",
    "Then, open up your preferred mode of writing Python. This could be in a [Jupyter Notebook](https://jupyter.org/) using [Jupyter Lab](https://blog.jupyter.org/jupyterlab-is-ready-for-users-5a6f039b8906), using a code editor (like Atom or Visual Studio) + command line, or just from the command line. Now follow the rest of the steps below to retreive and analyze the World Bank data."
   ]
  },
  {
   "cell_type": "code",
   "execution_count": 1,
   "metadata": {},
   "outputs": [],
   "source": [
    "# Importing packages\n",
    "import pandas as pd\n",
    "import numpy as np\n",
    "import datetime\n",
    "import wbdata\n",
    "import plotly.express as px\n",
    "import plotly.io as pio\n",
    "pio.renderers.default = \"iframe_connected\" # use \"pio.renderers\" to see the default renderer"
   ]
  },
  {
   "cell_type": "markdown",
   "metadata": {},
   "source": [
    "## 2. Data Specifications\n",
    "You will specify the data you want to explore using the following parameters:\n",
    "- **Indicator(s)**: The indicator code(s) for the data\n",
    "- **Location(s)**: The location code(s) for the countries, regions, or income level categories\n",
    "- **Time**: Years"
   ]
  },
  {
   "cell_type": "markdown",
   "metadata": {},
   "source": [
    "#### Indicator(s)\n",
    "In this guide, we will be looking at \"long-term external debt stock\" from the IDS database. To find the indicator for the data in which you're interested, you can either explore the [World Bank data catalog](https://datacatalog.worldbank.org/) or use an API query as outlined in [Part 1](https://worldbank.github.io/debt-data/api-guide/ids-api-guide-python-1.html) of this series. The IDS indicators are also conveniently stored as a spreadsheet (LINK NEEDED) in this repo. "
   ]
  },
  {
   "cell_type": "code",
   "execution_count": 2,
   "metadata": {},
   "outputs": [],
   "source": [
    "# Selecting the indictor\n",
    "indicatorSelection = {\"DT.DOD.DLXF.CD\":\"ExternalDebtStock\"}"
   ]
  },
  {
   "cell_type": "markdown",
   "metadata": {},
   "source": [
    "The text that follows the indicator code (in this case, \"ExternalDebtStock\") should be a description that helps that you correctly identify the indicator. To call more than one indicator, add more indicator names and descriptions to the dictionary."
   ]
  },
  {
   "cell_type": "markdown",
   "metadata": {},
   "source": [
    "#### Location(s)\n",
    "To select a location by country, region, or income level category you will need to know its 2 or 3 letter code. To figure out what this code is, you can either use an API query as outlined in [Part 1](https://worldbank.github.io/debt-data/api-guide/ids-api-guide-python-1.html) of this series or use the convenient [location-codes csv](https://github.com/worldbank/debt-data/blob/master/location-codes.csv)* in this repo. \n",
    "\n",
    "We will select regional aggregates (these exclude high-income countries):\n",
    "- ECA: Europe & Central Asia\n",
    "- SSA: Sub-Saharan Africa\n",
    "- SAS: South Asia\n",
    "- LAC: Latin America & the Caribbean\n",
    "- MNA: Middle East & North Africa\n",
    "- EAP: East Asia & Pacific\n",
    "\n",
    "\n",
    "###### *The location-codes csv was created using the API query: http://api.worldbank.org/v2/sources/2/country/data"
   ]
  },
  {
   "cell_type": "code",
   "execution_count": 3,
   "metadata": {},
   "outputs": [],
   "source": [
    "# Select the countries or regions\n",
    "locationSelection = [\"ECA\",\"SSA\",\"SAS\",\"LAC\",\"MNA\",\"EAP\"]"
   ]
  },
  {
   "cell_type": "markdown",
   "metadata": {},
   "source": [
    "#### Time\n",
    "Here you will select the time frame for your data series. The format for the date is year, month, day. We are selecting data from 2008 to 2017."
   ]
  },
  {
   "cell_type": "code",
   "execution_count": 4,
   "metadata": {},
   "outputs": [],
   "source": [
    "# Selecting the time frame\n",
    "timeSelection = (datetime.datetime(2008, 1, 1), datetime.datetime(2017, 12, 31))"
   ]
  },
  {
   "cell_type": "markdown",
   "metadata": {},
   "source": [
    "## 3. API Call"
   ]
  },
  {
   "cell_type": "markdown",
   "metadata": {},
   "source": [
    "In this step, we will retrieve the data using the World Bank Data API call. The package \"wbdata\" can request information from the World Bank database as a dictionary containing full metadata or as a pandas DataFrame. In this example, we will request the data, with the parameters outlined above, as a pandas DataFrame."
   ]
  },
  {
   "cell_type": "code",
   "execution_count": 5,
   "metadata": {},
   "outputs": [],
   "source": [
    "# Making the API call and assigning the resulting DataFrame to \"EXD\"\n",
    "EXD = wbdata.get_dataframe(indicatorSelection, \n",
    "                            country = locationSelection, \n",
    "                            data_date = timeSelection, \n",
    "                            convert_date = False)"
   ]
  },
  {
   "cell_type": "markdown",
   "metadata": {},
   "source": [
    "If you want a quick preview of your freshly retrieved DataFrame, you can print the first 5 lines"
   ]
  },
  {
   "cell_type": "code",
   "execution_count": 6,
   "metadata": {},
   "outputs": [
    {
     "name": "stdout",
     "output_type": "stream",
     "text": [
      "                                                  ExternalDebtStock\n",
      "country                                     date                   \n",
      "East Asia & Pacific (excluding high income) 2017       1.263986e+12\n",
      "                                            2016       1.158415e+12\n",
      "                                            2015       1.035285e+12\n",
      "                                            2014       1.029315e+12\n",
      "                                            2013       8.397770e+11\n"
     ]
    }
   ],
   "source": [
    "# Print the first 5 lines of the DataFrame\n",
    "print(EXD.head())"
   ]
  },
  {
   "cell_type": "markdown",
   "metadata": {},
   "source": [
    "## 4. Explore the data!\n",
    "Congratulations! At this point you should have the **long-term external debt stock** for **regions** (excluding high-income economies) from **2008 - 2017** all in a DataFrame called \"EXD.\"\n",
    "\n",
    "Now we can do the following:\n",
    "- **Data Cleaning**: Clean up the format to use in a table or populate a visualization\n",
    "- **Visualization**: Create a simple chart"
   ]
  },
  {
   "cell_type": "markdown",
   "metadata": {},
   "source": [
    "#### Data Cleaning\n",
    "As you saw in the preview of the data in section 3, the DataFrame's format needs to be cleaned up. We want to reshape the data. This will get it ready to present in a table or in a visualization."
   ]
  },
  {
   "cell_type": "code",
   "execution_count": 7,
   "metadata": {},
   "outputs": [],
   "source": [
    "# Reshape the data\n",
    "EXDreshaped = pd.DataFrame(EXD.to_records())"
   ]
  },
  {
   "cell_type": "markdown",
   "metadata": {},
   "source": [
    "The data for the long-term external debt stock is currently in units. To improve a table's or chart's readability, convert the units to billions and round the number to 0 decimal places. To do this, create a function called \"formatNum\" that you can then run on your DataFrame."
   ]
  },
  {
   "cell_type": "code",
   "execution_count": 8,
   "metadata": {},
   "outputs": [],
   "source": [
    "# Creating a function that will change units to billions and round to 0 decimal point\n",
    "def formatNum(x):\n",
    "    y = x/1000000000\n",
    "    z = round(y)\n",
    "    return(z)\n",
    "\n",
    "# Running the function on the desired data column\n",
    "EXDreshaped.ExternalDebtStock = formatNum(EXDreshaped.ExternalDebtStock)"
   ]
  },
  {
   "cell_type": "markdown",
   "metadata": {},
   "source": [
    "These next two sections of code will clean up the naming of headers and regions. First, it will rename the column headers. Second, it will remove the redundant \"(excluding high income)\" from the region names. We can instead include that information in the title of the legend."
   ]
  },
  {
   "cell_type": "code",
   "execution_count": 9,
   "metadata": {},
   "outputs": [],
   "source": [
    "# Renaming column headers\n",
    "EXDclean = EXDreshaped.rename(index=str, columns={\n",
    "    \"date\":\"Year\",\n",
    "    \"country\":\"Region\",\n",
    "})"
   ]
  },
  {
   "cell_type": "code",
   "execution_count": 10,
   "metadata": {},
   "outputs": [],
   "source": [
    "# Remove the \"(excluding high income)\" from each of the region names\n",
    "EXDclean[\"Region\"] = EXDclean[\"Region\"].str.replace(\"excluding high income\",\"\").str.replace(\")\",\"\").str.replace(\"(\",\"\")"
   ]
  },
  {
   "cell_type": "markdown",
   "metadata": {},
   "source": [
    "Now our data should be ready to present in a table or visualize in a chart. Let's take a look at the first five lines again so we can compare the cleaned up data to the raw output in section 3."
   ]
  },
  {
   "cell_type": "code",
   "execution_count": 11,
   "metadata": {},
   "outputs": [
    {
     "name": "stdout",
     "output_type": "stream",
     "text": [
      "                 Region  Year  ExternalDebtStock\n",
      "0  East Asia & Pacific   2017             1264.0\n",
      "1  East Asia & Pacific   2016             1158.0\n",
      "2  East Asia & Pacific   2015             1035.0\n",
      "3  East Asia & Pacific   2014             1029.0\n",
      "4  East Asia & Pacific   2013              840.0\n"
     ]
    }
   ],
   "source": [
    "print(EXDclean.head())"
   ]
  },
  {
   "cell_type": "markdown",
   "metadata": {},
   "source": [
    "#### Data Visualization\n",
    "\n",
    "Now use the package \"plotly\" to create a basic line graph, similar to one from the blog post on the [launch of IDS 2019](http://blogs.worldbank.org/opendata/international-debt-statistics-2019-external-debt-stocks-end-2017-stood-over-7-trillion)."
   ]
  },
  {
   "cell_type": "code",
   "execution_count": 12,
   "metadata": {},
   "outputs": [
    {
     "data": {
      "text/html": [
       "<iframe\n",
       "    scrolling=\"no\"\n",
       "    width=\"100%\"\n",
       "    height=\"620\"\n",
       "    src=\"iframe_figures/figure_12.html\"\n",
       "    frameborder=\"0\"\n",
       "    allowfullscreen\n",
       "></iframe>\n"
      ]
     },
     "metadata": {},
     "output_type": "display_data"
    }
   ],
   "source": [
    "# Defining the data source\n",
    "source = EXDclean\n",
    "\n",
    "# Creating the chart\n",
    "chart = px.line(EXDclean, \n",
    "                x=\"Year\",\n",
    "                y=\"ExternalDebtStock\",\n",
    "                color=\"Region\",\n",
    "                title=\"Long-term External Debt Stock (USD billion)\")\n",
    "chart.update_layout(\n",
    "                plot_bgcolor=\"white\")\n",
    "\n",
    "# Displaying the chart\n",
    "chart"
   ]
  }
 ],
 "metadata": {
  "kernelspec": {
   "display_name": "Python 3",
   "language": "python",
   "name": "python3"
  },
  "language_info": {
   "codemirror_mode": {
    "name": "ipython",
    "version": 3
   },
   "file_extension": ".py",
   "mimetype": "text/x-python",
   "name": "python",
   "nbconvert_exporter": "python",
   "pygments_lexer": "ipython3",
   "version": "3.7.0"
  }
 },
 "nbformat": 4,
 "nbformat_minor": 2
}
